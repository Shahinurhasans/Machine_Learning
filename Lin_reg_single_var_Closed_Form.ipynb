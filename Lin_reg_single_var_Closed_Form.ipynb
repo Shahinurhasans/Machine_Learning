{
 "cells": [
  {
   "cell_type": "code",
   "execution_count": 1,
   "id": "1a6e6af7-fd34-41a7-980c-83527088c387",
   "metadata": {},
   "outputs": [],
   "source": [
    "import numpy as np"
   ]
  },
  {
   "cell_type": "code",
   "execution_count": 3,
   "id": "6511ce89-e6cd-4237-a39b-f68acd468f22",
   "metadata": {},
   "outputs": [],
   "source": [
    "x=np.array([1,2,3,4])\n",
    "y=np.array([5,7,9,11])"
   ]
  },
  {
   "cell_type": "code",
   "execution_count": null,
   "id": "76867529-a342-40b9-9910-2e2fe69034e9",
   "metadata": {},
   "outputs": [],
   "source": [
    "X_b = np.c_[np.ones((X.shape[0], 1)), X]\n",
    "theta = np.linalg.inv(X_b.T.dot(X_b)).dot(X_b.T).dot(y)\n",
    "\n",
    "print(f\"Intercept: {theta[0]}, Slope: {theta[1]}\")\n",
    "print(\"predicted:\", m_curr*5+b_curr)"
   ]
  }
 ],
 "metadata": {
  "kernelspec": {
   "display_name": "Python 3 (ipykernel)",
   "language": "python",
   "name": "python3"
  },
  "language_info": {
   "codemirror_mode": {
    "name": "ipython",
    "version": 3
   },
   "file_extension": ".py",
   "mimetype": "text/x-python",
   "name": "python",
   "nbconvert_exporter": "python",
   "pygments_lexer": "ipython3",
   "version": "3.12.3"
  }
 },
 "nbformat": 4,
 "nbformat_minor": 5
}
