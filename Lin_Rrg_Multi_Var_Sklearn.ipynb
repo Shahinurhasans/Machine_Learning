{
 "cells": [
  {
   "cell_type": "code",
   "execution_count": 1,
   "id": "040a7947-bd12-49cf-9dde-ff92b165fdf9",
   "metadata": {},
   "outputs": [],
   "source": [
    "import pandas as pd\n",
    "import numpy as np\n",
    "import sklearn\n",
    "from sklearn.linear_model import LinearRegression\n",
    "import copy, math"
   ]
  },
  {
   "cell_type": "code",
   "execution_count": 3,
   "id": "989eb0fa-f129-451c-a94a-7b35b6de459e",
   "metadata": {},
   "outputs": [],
   "source": [
    "X=np.array([[2,2,1],[3,1,5],[4,3,2]])\n",
    "Y=np.array([21,24,30])"
   ]
  },
  {
   "cell_type": "code",
   "execution_count": 4,
   "id": "82429649-a2ac-44de-b5ee-25cb17ab01d8",
   "metadata": {},
   "outputs": [
    {
     "name": "stdout",
     "output_type": "stream",
     "text": [
      "[3.21686747 2.09638554 0.46987952]\n",
      "9.90361445783133\n",
      "<bound method RegressorMixin.score of LinearRegression()>\n"
     ]
    }
   ],
   "source": [
    "model = LinearRegression()\n",
    "model.fit(X,Y)\n",
    "print(model.coef_)\n",
    "print(model.intercept_)\n",
    "print(np.(model.coef_,np.arr([7,3,1])+model.inter"
   ]
  },
  {
   "cell_type": "code",
   "execution_count": null,
   "id": "47a5826c-5fcc-41f3-b9b7-d59ca1859f90",
   "metadata": {},
   "outputs": [],
   "source": []
  }
 ],
 "metadata": {
  "kernelspec": {
   "display_name": "Python 3 (ipykernel)",
   "language": "python",
   "name": "python3"
  },
  "language_info": {
   "codemirror_mode": {
    "name": "ipython",
    "version": 3
   },
   "file_extension": ".py",
   "mimetype": "text/x-python",
   "name": "python",
   "nbconvert_exporter": "python",
   "pygments_lexer": "ipython3",
   "version": "3.12.3"
  }
 },
 "nbformat": 4,
 "nbformat_minor": 5
}
