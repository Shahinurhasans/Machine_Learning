{
 "cells": [
  {
   "cell_type": "code",
   "execution_count": 13,
   "id": "93b354a4-5a27-4692-b559-8c5a7c32c7c2",
   "metadata": {},
   "outputs": [],
   "source": [
    "import numpy as np"
   ]
  },
  {
   "cell_type": "code",
   "execution_count": 14,
   "id": "dfcd439e-6b84-485c-b32b-54d4428e1d43",
   "metadata": {},
   "outputs": [],
   "source": [
    "x=np.array([1,2,3,4])\n",
    "y=np.array([5,7,9,11])"
   ]
  },
  {
   "cell_type": "code",
   "execution_count": 15,
   "id": "0c6e2997-6ba9-4fd8-a4d4-ecd6a40f95e5",
   "metadata": {},
   "outputs": [],
   "source": [
    " n = len(x)\n",
    " \n",
    " sum_x = sum(x)\n",
    " sum_y = sum(y)\n",
    " sum_xy = sum([x[i] * y[i] for i in range(n)])\n",
    " sum_x2 = sum([x[i] ** 2 for i in range(n)])\n",
    " \n",
    " # Calculate slope and intercept\n",
    " m = (n * sum_xy - sum_x * sum_y) / (n * sum_x2 - sum_x ** 2)\n",
    " b = (sum_y - m * sum_x) / n\n",
    " "
   ]
  },
  {
   "cell_type": "code",
   "execution_count": 16,
   "id": "bf546c2e-39bd-464e-b5e7-e5550b9e6609",
   "metadata": {},
   "outputs": [
    {
     "name": "stdout",
     "output_type": "stream",
     "text": [
      "Coefficient: 2.0\n",
      "Intercept: 3.0\n",
      "predicted: 13.0\n"
     ]
    }
   ],
   "source": [
    "print(\"Coefficient:\", m)\n",
    "print(\"Intercept:\", b )\n",
    "#print(\"R-squared:\", model.score(X, Y))\n",
    "print(\"predicted:\",m*5+b)"
   ]
  },
  {
   "cell_type": "code",
   "execution_count": null,
   "id": "3fe71952-f4e4-4695-8073-8fe62cdbf828",
   "metadata": {},
   "outputs": [],
   "source": []
  },
  {
   "cell_type": "code",
   "execution_count": null,
   "id": "88163fee-966d-41dc-84d5-6999e73d622b",
   "metadata": {},
   "outputs": [],
   "source": []
  }
 ],
 "metadata": {
  "kernelspec": {
   "display_name": "Python 3 (ipykernel)",
   "language": "python",
   "name": "python3"
  },
  "language_info": {
   "codemirror_mode": {
    "name": "ipython",
    "version": 3
   },
   "file_extension": ".py",
   "mimetype": "text/x-python",
   "name": "python",
   "nbconvert_exporter": "python",
   "pygments_lexer": "ipython3",
   "version": "3.12.3"
  }
 },
 "nbformat": 4,
 "nbformat_minor": 5
}
